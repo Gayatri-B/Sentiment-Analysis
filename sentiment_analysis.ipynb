{
  "nbformat": 4,
  "nbformat_minor": 0,
  "metadata": {
    "colab": {
      "name": "sentiment-analysis.ipynb",
      "provenance": []
    },
    "kernelspec": {
      "name": "python3",
      "display_name": "Python 3"
    },
    "language_info": {
      "name": "python"
    }
  },
  "cells": [
    {
      "cell_type": "markdown",
      "metadata": {
        "id": "Xs_KJ81Tmxvf"
      },
      "source": [
        "**Sentiment Analysis on Twitter Data**"
      ]
    },
    {
      "cell_type": "code",
      "metadata": {
        "id": "88LQjElXf0g5"
      },
      "source": [
        "#importing the necessary libraries\n",
        "\n",
        "import tweepy\n",
        "from textblob import TextBlob\n",
        "from wordcloud import WordCloud\n",
        "import pandas as pd\n",
        "import numpy as np\n",
        "import re\n",
        "import matplotlib.pyplot as plt\n",
        "from matplotlib.pyplot import *\n",
        "plt.style.use('fivethirtyeight')\n"
      ],
      "execution_count": 2,
      "outputs": []
    },
    {
      "cell_type": "code",
      "metadata": {
        "id": "yxq2c1C7hgQ3",
        "colab": {
          "resources": {
            "http://localhost:8080/nbextensions/google.colab/files.js": {
              "data": "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",
              "ok": true,
              "headers": [
                [
                  "content-type",
                  "application/javascript"
                ]
              ],
              "status": 200,
              "status_text": ""
            }
          },
          "base_uri": "https://localhost:8080/",
          "height": 73
        },
        "outputId": "3180d40f-f0bc-46db-fd69-a9b72147b80f"
      },
      "source": [
        "#Load the Data\n",
        "from google.colab import files\n",
        "file_uploaded = files.upload()"
      ],
      "execution_count": 3,
      "outputs": [
        {
          "output_type": "display_data",
          "data": {
            "text/html": [
              "\n",
              "     <input type=\"file\" id=\"files-510dda20-15e2-4dc7-be36-96b8c64033d2\" name=\"files[]\" multiple disabled\n",
              "        style=\"border:none\" />\n",
              "     <output id=\"result-510dda20-15e2-4dc7-be36-96b8c64033d2\">\n",
              "      Upload widget is only available when the cell has been executed in the\n",
              "      current browser session. Please rerun this cell to enable.\n",
              "      </output>\n",
              "      <script src=\"/nbextensions/google.colab/files.js\"></script> "
            ],
            "text/plain": [
              "<IPython.core.display.HTML object>"
            ]
          },
          "metadata": {}
        },
        {
          "output_type": "stream",
          "name": "stdout",
          "text": [
            "Saving login.csv to login.csv\n"
          ]
        }
      ]
    },
    {
      "cell_type": "code",
      "metadata": {
        "id": "ksYJ0LWltWzQ"
      },
      "source": [
        "# get the data\n",
        "log = pd.read_csv(\"login.csv\")"
      ],
      "execution_count": 4,
      "outputs": []
    },
    {
      "cell_type": "code",
      "metadata": {
        "id": "kyqMgFVItmDi"
      },
      "source": [
        "# Get the API credentials\n",
        "consumer_key = log['keys'][0]\n",
        "consumer_secret = log['keys'][1]\n",
        "access_token = log['keys'][2]\n",
        "access_token_secret = log['keys'][3]\n"
      ],
      "execution_count": 5,
      "outputs": []
    },
    {
      "cell_type": "code",
      "metadata": {
        "id": "61wUurtGujkW"
      },
      "source": [
        "# Authentication Object\n",
        "auth = tweepy.OAuthHandler(consumer_key, consumer_secret)\n",
        "\n",
        "# Set Access Token and Access Token Secret\n",
        "auth.set_access_token(access_token, access_token_secret) \n",
        "\n",
        "# Create API\n",
        "api = tweepy.API(auth, wait_on_rate_limit = True)"
      ],
      "execution_count": 7,
      "outputs": []
    },
    {
      "cell_type": "code",
      "metadata": {
        "colab": {
          "base_uri": "https://localhost:8080/"
        },
        "id": "7sxAHT7Mv0Su",
        "outputId": "6b8d4c42-b6bf-4bf5-f8e5-1880ae4fed7d"
      },
      "source": [
        "# Extract 1000 tweets from the twitter user\n",
        "tweets = api.user_timeline(screen_name = \"WHO\", count = 100, tweet_mode = \"extended\", lang = \"en\")\n",
        "\n",
        "# print last 10 tweets from this account\n",
        "print(\"Show recent 10 tweets: \\n\")\n",
        "for i,tweet in enumerate(tweets[0:11], 1):\n",
        "  print(str(i) + \". \" + tweet.full_text + \"\\n\")"
      ],
      "execution_count": 8,
      "outputs": [
        {
          "output_type": "stream",
          "name": "stdout",
          "text": [
            "Show recent 10 tweets: \n",
            "\n",
            "1. What have we learned about #airpollution and #COVID19? \n",
            "@DrMariaNeira explains in #ScienceIn5 this week ⬇️ https://t.co/vc6sON00xy\n",
            "\n",
            "2. Ageism affects people of all ages.\n",
            "It has detrimental costs on our health, wellbeing, social systems and our economy.\n",
            "It’s time for change.\n",
            "\n",
            "Download our guide to start the conversation and help create #AWorld4AllAges 👇\n",
            "\n",
            "3. Nearly 3 in 4 children 👧🧒 (300 million) aged 2-4 years regularly suffer physical punishment and/or psychological violence at the hands of parents and caregivers.\n",
            " \n",
            "It's time to #EndViolence against children. https://t.co/JXPU8nGn9E\n",
            "\n",
            "4. Ageism affects people of all ages. \n",
            "\n",
            "It’s affecting our health, wellbeing, our social systems and our economy.\n",
            "\n",
            "It’s time for change.\n",
            " \n",
            "Help us create #AWorld4AllAges\n",
            "\n",
            "5. #HealthWorkers should minimize the need for violence survivors to repeatedly tell their history: Always listen attentively when 👩👨🧒 recount their stories and don’t interpret or judge.\n",
            "#EndViolence https://t.co/kk68nHl17u\n",
            "\n",
            "6. You can't put out half a fire.\n",
            " \n",
            "No one is safe until we're all safe. Stand up for #VaccinEquity!\n",
            "\n",
            "https://t.co/n1gHTJbO4m\n",
            "\n",
            "7. People who are at higher risk of domestic violence 🏠 during and after #COVID19 include:\n",
            "🧒Children\n",
            "👩Women\n",
            "🧓Older people\n",
            " \n",
            "We must #EndViolence! https://t.co/afvXUiVlYQ\n",
            "\n",
            "8. WHO is urging\n",
            "\n",
            "🔸 governments to honour their commitments to global access, share doses with and fully fund #COVAX\n",
            "🔸 Manufacturers to be transparent about their production schedules and deliver their promised doses to COVAX and AVAT\n",
            "\n",
            "#VaccinEquity now!\n",
            "\n",
            "https://t.co/zlsoSMB09A\n",
            "\n",
            "9. If you are experiencing violence at home during #COVID19 and need to leave in a hurry:\n",
            "🏘️ Identify a friend, neighbor, relative or shelter you can go to\n",
            "🔀 Plan how to get there\n",
            "🎒 Keep ready essential personal items to take with you https://t.co/aiDOzxx77z\n",
            "\n",
            "10. Spread vaccines 💉, not variants.\n",
            "\n",
            "#VaccinEquity will have enormous payoffs both economically &amp; for societies at large.\n",
            " \n",
            "👉https://t.co/ttNGdxRzxl https://t.co/ndM2KgX31u\n",
            "\n",
            "11. On International Day of Non-Violence, and always, reach out for help if you need it.\n",
            "If you are experiencing violence:\n",
            "👋🏾 Contact supportive family, friends or neighbours\n",
            "📞 Call a hotline or access information online if possible\n",
            "🆘 Seek out local services for survivors https://t.co/3kNoYF70UI\n",
            "\n"
          ]
        }
      ]
    },
    {
      "cell_type": "code",
      "metadata": {
        "colab": {
          "base_uri": "https://localhost:8080/",
          "height": 203
        },
        "id": "LgubTBJX1vx1",
        "outputId": "932c87ea-23ef-4c8a-e246-cfd9e343cead"
      },
      "source": [
        "# Dataframe for tweets\n",
        "df = pd.DataFrame([tweet.full_text for tweet in tweets], columns = [\"Posted Tweets\"])\n",
        "\n",
        "# first 5 tweets in dataframe\n",
        "df.head()"
      ],
      "execution_count": 9,
      "outputs": [
        {
          "output_type": "execute_result",
          "data": {
            "text/html": [
              "<div>\n",
              "<style scoped>\n",
              "    .dataframe tbody tr th:only-of-type {\n",
              "        vertical-align: middle;\n",
              "    }\n",
              "\n",
              "    .dataframe tbody tr th {\n",
              "        vertical-align: top;\n",
              "    }\n",
              "\n",
              "    .dataframe thead th {\n",
              "        text-align: right;\n",
              "    }\n",
              "</style>\n",
              "<table border=\"1\" class=\"dataframe\">\n",
              "  <thead>\n",
              "    <tr style=\"text-align: right;\">\n",
              "      <th></th>\n",
              "      <th>Posted Tweets</th>\n",
              "    </tr>\n",
              "  </thead>\n",
              "  <tbody>\n",
              "    <tr>\n",
              "      <th>0</th>\n",
              "      <td>What have we learned about #airpollution and #...</td>\n",
              "    </tr>\n",
              "    <tr>\n",
              "      <th>1</th>\n",
              "      <td>Ageism affects people of all ages.\\nIt has det...</td>\n",
              "    </tr>\n",
              "    <tr>\n",
              "      <th>2</th>\n",
              "      <td>Nearly 3 in 4 children 👧🧒 (300 million) aged 2...</td>\n",
              "    </tr>\n",
              "    <tr>\n",
              "      <th>3</th>\n",
              "      <td>Ageism affects people of all ages. \\n\\nIt’s af...</td>\n",
              "    </tr>\n",
              "    <tr>\n",
              "      <th>4</th>\n",
              "      <td>#HealthWorkers should minimize the need for vi...</td>\n",
              "    </tr>\n",
              "  </tbody>\n",
              "</table>\n",
              "</div>"
            ],
            "text/plain": [
              "                                       Posted Tweets\n",
              "0  What have we learned about #airpollution and #...\n",
              "1  Ageism affects people of all ages.\\nIt has det...\n",
              "2  Nearly 3 in 4 children 👧🧒 (300 million) aged 2...\n",
              "3  Ageism affects people of all ages. \\n\\nIt’s af...\n",
              "4  #HealthWorkers should minimize the need for vi..."
            ]
          },
          "metadata": {},
          "execution_count": 9
        }
      ]
    },
    {
      "cell_type": "code",
      "metadata": {
        "colab": {
          "base_uri": "https://localhost:8080/",
          "height": 417
        },
        "id": "Dz-z-Agf3SSP",
        "outputId": "8a41fa87-0632-47d7-a340-2330c726bced"
      },
      "source": [
        "# Text cleaning\n",
        "\n",
        "def clean_text(text):\n",
        "  text = re.sub(r'#', '', text)\n",
        "  text = re.sub(r'@[A-Za-z0-9]+', '', text)\n",
        "  text = re.sub(r'RT[\\s]+','', text)\n",
        "  text = re.sub(r':', '', text)\n",
        "  text = re.sub(r'_', '', text)\n",
        "  text = re.sub(r'&amp', '', text)\n",
        "  text = re.sub(r'https:?\\/\\/\\S+', '', text)\n",
        "  \n",
        "  return text\n",
        "\n",
        "df['Posted Tweets'] = df['Posted Tweets'].apply(clean_text)\n",
        "df = df.astype(str).apply(lambda x: x.str.encode('ascii', 'ignore').str.decode('ascii'))\n",
        "df\n"
      ],
      "execution_count": 10,
      "outputs": [
        {
          "output_type": "execute_result",
          "data": {
            "text/html": [
              "<div>\n",
              "<style scoped>\n",
              "    .dataframe tbody tr th:only-of-type {\n",
              "        vertical-align: middle;\n",
              "    }\n",
              "\n",
              "    .dataframe tbody tr th {\n",
              "        vertical-align: top;\n",
              "    }\n",
              "\n",
              "    .dataframe thead th {\n",
              "        text-align: right;\n",
              "    }\n",
              "</style>\n",
              "<table border=\"1\" class=\"dataframe\">\n",
              "  <thead>\n",
              "    <tr style=\"text-align: right;\">\n",
              "      <th></th>\n",
              "      <th>Posted Tweets</th>\n",
              "    </tr>\n",
              "  </thead>\n",
              "  <tbody>\n",
              "    <tr>\n",
              "      <th>0</th>\n",
              "      <td>What have we learned about airpollution and CO...</td>\n",
              "    </tr>\n",
              "    <tr>\n",
              "      <th>1</th>\n",
              "      <td>Ageism affects people of all ages.\\nIt has det...</td>\n",
              "    </tr>\n",
              "    <tr>\n",
              "      <th>2</th>\n",
              "      <td>Nearly 3 in 4 children  (300 million) aged 2-4...</td>\n",
              "    </tr>\n",
              "    <tr>\n",
              "      <th>3</th>\n",
              "      <td>Ageism affects people of all ages. \\n\\nIts aff...</td>\n",
              "    </tr>\n",
              "    <tr>\n",
              "      <th>4</th>\n",
              "      <td>HealthWorkers should minimize the need for vio...</td>\n",
              "    </tr>\n",
              "    <tr>\n",
              "      <th>...</th>\n",
              "      <td>...</td>\n",
              "    </tr>\n",
              "    <tr>\n",
              "      <th>95</th>\n",
              "      <td>\"We expect and demand that all our staff at ...</td>\n",
              "    </tr>\n",
              "    <tr>\n",
              "      <th>96</th>\n",
              "      <td>\"This is a dark day for WHO. But by shining ...</td>\n",
              "    </tr>\n",
              "    <tr>\n",
              "      <th>97</th>\n",
              "      <td>\"The conduct it describes is a sickening bet...</td>\n",
              "    </tr>\n",
              "    <tr>\n",
              "      <th>98</th>\n",
              "      <td>\"I struggle to find the words to describe my...</td>\n",
              "    </tr>\n",
              "    <tr>\n",
              "      <th>99</th>\n",
              "      <td>\"To further strengthen accountability, we ha...</td>\n",
              "    </tr>\n",
              "  </tbody>\n",
              "</table>\n",
              "<p>100 rows × 1 columns</p>\n",
              "</div>"
            ],
            "text/plain": [
              "                                        Posted Tweets\n",
              "0   What have we learned about airpollution and CO...\n",
              "1   Ageism affects people of all ages.\\nIt has det...\n",
              "2   Nearly 3 in 4 children  (300 million) aged 2-4...\n",
              "3   Ageism affects people of all ages. \\n\\nIts aff...\n",
              "4   HealthWorkers should minimize the need for vio...\n",
              "..                                                ...\n",
              "95    \"We expect and demand that all our staff at ...\n",
              "96    \"This is a dark day for WHO. But by shining ...\n",
              "97    \"The conduct it describes is a sickening bet...\n",
              "98    \"I struggle to find the words to describe my...\n",
              "99    \"To further strengthen accountability, we ha...\n",
              "\n",
              "[100 rows x 1 columns]"
            ]
          },
          "metadata": {},
          "execution_count": 10
        }
      ]
    },
    {
      "cell_type": "code",
      "metadata": {
        "colab": {
          "base_uri": "https://localhost:8080/",
          "height": 417
        },
        "id": "H6fy4dWkgXyd",
        "outputId": "e2da04aa-b410-4eb6-d11f-e6305665bb1f"
      },
      "source": [
        "# subjectivity function\n",
        "def subjectivity(text):\n",
        "  return TextBlob(text).sentiment.subjectivity\n",
        "\n",
        "# Polarity Function:\n",
        "def polarity(text):\n",
        "  return TextBlob(text).sentiment.polarity\n",
        "\n",
        "# Subjectivity and Polarity Columns\n",
        "df['Subjectivity'] = df['Posted Tweets'].apply(subjectivity)\n",
        "df['Polarity'] = df['Posted Tweets'].apply(polarity)\n",
        "\n",
        "# New dataframe with subjectivity and polarity\n",
        "df"
      ],
      "execution_count": 11,
      "outputs": [
        {
          "output_type": "execute_result",
          "data": {
            "text/html": [
              "<div>\n",
              "<style scoped>\n",
              "    .dataframe tbody tr th:only-of-type {\n",
              "        vertical-align: middle;\n",
              "    }\n",
              "\n",
              "    .dataframe tbody tr th {\n",
              "        vertical-align: top;\n",
              "    }\n",
              "\n",
              "    .dataframe thead th {\n",
              "        text-align: right;\n",
              "    }\n",
              "</style>\n",
              "<table border=\"1\" class=\"dataframe\">\n",
              "  <thead>\n",
              "    <tr style=\"text-align: right;\">\n",
              "      <th></th>\n",
              "      <th>Posted Tweets</th>\n",
              "      <th>Subjectivity</th>\n",
              "      <th>Polarity</th>\n",
              "    </tr>\n",
              "  </thead>\n",
              "  <tbody>\n",
              "    <tr>\n",
              "      <th>0</th>\n",
              "      <td>What have we learned about airpollution and CO...</td>\n",
              "      <td>0.000000</td>\n",
              "      <td>0.000000</td>\n",
              "    </tr>\n",
              "    <tr>\n",
              "      <th>1</th>\n",
              "      <td>Ageism affects people of all ages.\\nIt has det...</td>\n",
              "      <td>0.066667</td>\n",
              "      <td>0.033333</td>\n",
              "    </tr>\n",
              "    <tr>\n",
              "      <th>2</th>\n",
              "      <td>Nearly 3 in 4 children  (300 million) aged 2-4...</td>\n",
              "      <td>0.223956</td>\n",
              "      <td>0.000000</td>\n",
              "    </tr>\n",
              "    <tr>\n",
              "      <th>3</th>\n",
              "      <td>Ageism affects people of all ages. \\n\\nIts aff...</td>\n",
              "      <td>0.066667</td>\n",
              "      <td>0.033333</td>\n",
              "    </tr>\n",
              "    <tr>\n",
              "      <th>4</th>\n",
              "      <td>HealthWorkers should minimize the need for vio...</td>\n",
              "      <td>0.900000</td>\n",
              "      <td>0.400000</td>\n",
              "    </tr>\n",
              "    <tr>\n",
              "      <th>...</th>\n",
              "      <td>...</td>\n",
              "      <td>...</td>\n",
              "      <td>...</td>\n",
              "    </tr>\n",
              "    <tr>\n",
              "      <th>95</th>\n",
              "      <td>\"We expect and demand that all our staff at ...</td>\n",
              "      <td>0.833333</td>\n",
              "      <td>0.500000</td>\n",
              "    </tr>\n",
              "    <tr>\n",
              "      <th>96</th>\n",
              "      <td>\"This is a dark day for WHO. But by shining ...</td>\n",
              "      <td>0.550000</td>\n",
              "      <td>0.125000</td>\n",
              "    </tr>\n",
              "    <tr>\n",
              "      <th>97</th>\n",
              "      <td>\"The conduct it describes is a sickening bet...</td>\n",
              "      <td>0.625000</td>\n",
              "      <td>-0.400000</td>\n",
              "    </tr>\n",
              "    <tr>\n",
              "      <th>98</th>\n",
              "      <td>\"I struggle to find the words to describe my...</td>\n",
              "      <td>0.333333</td>\n",
              "      <td>0.250000</td>\n",
              "    </tr>\n",
              "    <tr>\n",
              "      <th>99</th>\n",
              "      <td>\"To further strengthen accountability, we ha...</td>\n",
              "      <td>0.312500</td>\n",
              "      <td>0.000000</td>\n",
              "    </tr>\n",
              "  </tbody>\n",
              "</table>\n",
              "<p>100 rows × 3 columns</p>\n",
              "</div>"
            ],
            "text/plain": [
              "                                        Posted Tweets  Subjectivity  Polarity\n",
              "0   What have we learned about airpollution and CO...      0.000000  0.000000\n",
              "1   Ageism affects people of all ages.\\nIt has det...      0.066667  0.033333\n",
              "2   Nearly 3 in 4 children  (300 million) aged 2-4...      0.223956  0.000000\n",
              "3   Ageism affects people of all ages. \\n\\nIts aff...      0.066667  0.033333\n",
              "4   HealthWorkers should minimize the need for vio...      0.900000  0.400000\n",
              "..                                                ...           ...       ...\n",
              "95    \"We expect and demand that all our staff at ...      0.833333  0.500000\n",
              "96    \"This is a dark day for WHO. But by shining ...      0.550000  0.125000\n",
              "97    \"The conduct it describes is a sickening bet...      0.625000 -0.400000\n",
              "98    \"I struggle to find the words to describe my...      0.333333  0.250000\n",
              "99    \"To further strengthen accountability, we ha...      0.312500  0.000000\n",
              "\n",
              "[100 rows x 3 columns]"
            ]
          },
          "metadata": {},
          "execution_count": 11
        }
      ]
    },
    {
      "cell_type": "code",
      "metadata": {
        "colab": {
          "base_uri": "https://localhost:8080/",
          "height": 250
        },
        "id": "LIeW1ljzh6b3",
        "outputId": "7097699f-ade9-4a38-e9f8-e7777293de87"
      },
      "source": [
        "# Word cloud\n",
        "\n",
        "words = ' '.join([twts for twts in df['Posted Tweets']])\n",
        "wordcloud = WordCloud(width = 600, height = 350, random_state = 21, max_font_size = 119).generate(words)\n",
        "\n",
        "plt.imshow(wordcloud, interpolation = 'bilinear')\n",
        "plt.axis('off')\n",
        "plt.show()"
      ],
      "execution_count": 12,
      "outputs": [
        {
          "output_type": "display_data",
          "data": {
            "image/png": "[encoded data removed]",
            "text/plain": [
              "<Figure size 432x288 with 1 Axes>"
            ]
          },
          "metadata": {}
        }
      ]
    },
    {
      "cell_type": "code",
      "metadata": {
        "colab": {
          "base_uri": "https://localhost:8080/",
          "height": 417
        },
        "id": "RTTQHP1yj5CP",
        "outputId": "ef1e0dfd-0634-4de1-db0e-a6c0e3fef2d3"
      },
      "source": [
        "# negative, neutral and positive analysis\n",
        "\n",
        "def analysis(score):\n",
        "  if score < 0:\n",
        "    return 'Negative'\n",
        "  elif score == 0:\n",
        "    return 'Neutral'\n",
        "  else:\n",
        "    return 'Positive'\n",
        "\n",
        "df['Analysis'] = df['Polarity'].apply(analysis)\n",
        "df"
      ],
      "execution_count": 13,
      "outputs": [
        {
          "output_type": "execute_result",
          "data": {
            "text/html": [
              "<div>\n",
              "<style scoped>\n",
              "    .dataframe tbody tr th:only-of-type {\n",
              "        vertical-align: middle;\n",
              "    }\n",
              "\n",
              "    .dataframe tbody tr th {\n",
              "        vertical-align: top;\n",
              "    }\n",
              "\n",
              "    .dataframe thead th {\n",
              "        text-align: right;\n",
              "    }\n",
              "</style>\n",
              "<table border=\"1\" class=\"dataframe\">\n",
              "  <thead>\n",
              "    <tr style=\"text-align: right;\">\n",
              "      <th></th>\n",
              "      <th>Posted Tweets</th>\n",
              "      <th>Subjectivity</th>\n",
              "      <th>Polarity</th>\n",
              "      <th>Analysis</th>\n",
              "    </tr>\n",
              "  </thead>\n",
              "  <tbody>\n",
              "    <tr>\n",
              "      <th>0</th>\n",
              "      <td>What have we learned about airpollution and CO...</td>\n",
              "      <td>0.000000</td>\n",
              "      <td>0.000000</td>\n",
              "      <td>Neutral</td>\n",
              "    </tr>\n",
              "    <tr>\n",
              "      <th>1</th>\n",
              "      <td>Ageism affects people of all ages.\\nIt has det...</td>\n",
              "      <td>0.066667</td>\n",
              "      <td>0.033333</td>\n",
              "      <td>Positive</td>\n",
              "    </tr>\n",
              "    <tr>\n",
              "      <th>2</th>\n",
              "      <td>Nearly 3 in 4 children  (300 million) aged 2-4...</td>\n",
              "      <td>0.223956</td>\n",
              "      <td>0.000000</td>\n",
              "      <td>Neutral</td>\n",
              "    </tr>\n",
              "    <tr>\n",
              "      <th>3</th>\n",
              "      <td>Ageism affects people of all ages. \\n\\nIts aff...</td>\n",
              "      <td>0.066667</td>\n",
              "      <td>0.033333</td>\n",
              "      <td>Positive</td>\n",
              "    </tr>\n",
              "    <tr>\n",
              "      <th>4</th>\n",
              "      <td>HealthWorkers should minimize the need for vio...</td>\n",
              "      <td>0.900000</td>\n",
              "      <td>0.400000</td>\n",
              "      <td>Positive</td>\n",
              "    </tr>\n",
              "    <tr>\n",
              "      <th>...</th>\n",
              "      <td>...</td>\n",
              "      <td>...</td>\n",
              "      <td>...</td>\n",
              "      <td>...</td>\n",
              "    </tr>\n",
              "    <tr>\n",
              "      <th>95</th>\n",
              "      <td>\"We expect and demand that all our staff at ...</td>\n",
              "      <td>0.833333</td>\n",
              "      <td>0.500000</td>\n",
              "      <td>Positive</td>\n",
              "    </tr>\n",
              "    <tr>\n",
              "      <th>96</th>\n",
              "      <td>\"This is a dark day for WHO. But by shining ...</td>\n",
              "      <td>0.550000</td>\n",
              "      <td>0.125000</td>\n",
              "      <td>Positive</td>\n",
              "    </tr>\n",
              "    <tr>\n",
              "      <th>97</th>\n",
              "      <td>\"The conduct it describes is a sickening bet...</td>\n",
              "      <td>0.625000</td>\n",
              "      <td>-0.400000</td>\n",
              "      <td>Negative</td>\n",
              "    </tr>\n",
              "    <tr>\n",
              "      <th>98</th>\n",
              "      <td>\"I struggle to find the words to describe my...</td>\n",
              "      <td>0.333333</td>\n",
              "      <td>0.250000</td>\n",
              "      <td>Positive</td>\n",
              "    </tr>\n",
              "    <tr>\n",
              "      <th>99</th>\n",
              "      <td>\"To further strengthen accountability, we ha...</td>\n",
              "      <td>0.312500</td>\n",
              "      <td>0.000000</td>\n",
              "      <td>Neutral</td>\n",
              "    </tr>\n",
              "  </tbody>\n",
              "</table>\n",
              "<p>100 rows × 4 columns</p>\n",
              "</div>"
            ],
            "text/plain": [
              "                                        Posted Tweets  ...  Analysis\n",
              "0   What have we learned about airpollution and CO...  ...   Neutral\n",
              "1   Ageism affects people of all ages.\\nIt has det...  ...  Positive\n",
              "2   Nearly 3 in 4 children  (300 million) aged 2-4...  ...   Neutral\n",
              "3   Ageism affects people of all ages. \\n\\nIts aff...  ...  Positive\n",
              "4   HealthWorkers should minimize the need for vio...  ...  Positive\n",
              "..                                                ...  ...       ...\n",
              "95    \"We expect and demand that all our staff at ...  ...  Positive\n",
              "96    \"This is a dark day for WHO. But by shining ...  ...  Positive\n",
              "97    \"The conduct it describes is a sickening bet...  ...  Negative\n",
              "98    \"I struggle to find the words to describe my...  ...  Positive\n",
              "99    \"To further strengthen accountability, we ha...  ...   Neutral\n",
              "\n",
              "[100 rows x 4 columns]"
            ]
          },
          "metadata": {},
          "execution_count": 13
        }
      ]
    },
    {
      "cell_type": "code",
      "metadata": {
        "colab": {
          "base_uri": "https://localhost:8080/"
        },
        "id": "cQqiwD8CkGZT",
        "outputId": "56b64d0d-a532-4eff-936f-535a7e875d7c"
      },
      "source": [
        "# print positive tweets\n",
        "j=1\n",
        "sortedDF= df.sort_values(by=['Polarity'])\n",
        "\n",
        "for i in range(0, sortedDF.shape[0]):\n",
        "  if (sortedDF['Analysis'][i] == 'Positive'):\n",
        "    print(str(j)+ '. ' +sortedDF['Posted Tweets'][i])\n",
        "    print()\n",
        "    j = j+1"
      ],
      "execution_count": 14,
      "outputs": [
        {
          "output_type": "stream",
          "name": "stdout",
          "text": [
            "1. Ageism affects people of all ages.\n",
            "It has detrimental costs on our health, wellbeing, social systems and our economy.\n",
            "Its time for change.\n",
            "\n",
            "Download our guide to start the conversation and help create AWorld4AllAges \n",
            "\n",
            "2. Ageism affects people of all ages. \n",
            "\n",
            "Its affecting our health, wellbeing, our social systems and our economy.\n",
            "\n",
            "Its time for change.\n",
            " \n",
            "Help us create AWorld4AllAges\n",
            "\n",
            "3. HealthWorkers should minimize the need for violence survivors to repeatedly tell their history Always listen attentively when  recount their stories and dont interpret or judge.\n",
            "EndViolence \n",
            "\n",
            "4. You can't put out half a fire.\n",
            " \n",
            "No one is safe until we're all safe. Stand up for VaccinEquity!\n",
            "\n",
            "\n",
            "\n",
            "5. People who are at higher risk of domestic violence  during and after COVID19 include\n",
            "Children\n",
            "Women\n",
            "Older people\n",
            " \n",
            "We must EndViolence! \n",
            "\n",
            "6. If you are experiencing violence at home during COVID19 and need to leave in a hurry\n",
            " Identify a friend, neighbor, relative or shelter you can go to\n",
            " Plan how to get there\n",
            " Keep ready essential personal items to take with you \n",
            "\n",
            "7. Spread vaccines , not variants.\n",
            "\n",
            "VaccinEquity will have enormous payoffs both economically ; for societies at large.\n",
            " \n",
            " \n",
            "\n",
            "8. On International Day of Non-Violence, and always, reach out for help if you need it.\n",
            "If you are experiencing violence\n",
            " Contact supportive family, friends or neighbours\n",
            " Call a hotline or access information online if possible\n",
            " Seek out local services for survivors \n",
            "\n",
            "9. Over 130 countries have used the WHO Essential Medicines List to develop their own national lists.\n",
            "The List is a powerful tool to increase access to treatment  \n",
            "\n",
            "10. Essential medicines are those that satisfy the priority health care needs of a population and must be\n",
            " accessible at all time\n",
            " available in sufficient amounts and appropriate dosage forms\n",
            " affordable\n",
            " of assured quality\n",
            "\n",
            " \n",
            "\n",
            "11. \"Self-interest is natural, but there is enlightened self-interest. Vaccines can be produced and the world can be opened up. It's in our hands. We can end it [COVID19] soon\"- VaccinEquity \n",
            "\n",
            "12.  How can you help create AWorld4AllAges\n",
            " Advocate for fair treatment\n",
            " Push for age diversity in your community\n",
            " Socialize with\n",
            "\n",
            "13.  C, Mikhail Murashko, Russia Health Minister, for your visit and constructive meeting about the new  initiatives s\n",
            "\n",
            "14. It is vitally important to protect HealthWorkers and people at greatest risk in all countries.\n",
            " \n",
            " Share doses.\n",
            " Share know-how.\n",
            " Share technologies.\n",
            " Waive IP rights.\n",
            " Swap deliveries, prioritize COVAX and AVAT.\n",
            " \n",
            "\n",
            "\n",
            "15. How can you help create AWorld4AllAges\n",
            " Advocate for fair treatment\n",
            " Push for age diversity in your community\n",
            " Socialize with people of different ages\n",
            " Stand up against ageism when you see it\n",
            "  \n",
            "\n",
            "16. It's International Day of Older Persons.\n",
            " \n",
            "DYK Among older people, ageism is associated with increased social isolation and loneliness, greater financial insecurity, decreased quality of life and premature death.\n",
            " \n",
            "AWorld4AllAges \n",
            "\n",
            "17.  WHO 2021 Essential Medicines Lists have 20 new medicines for adults ; 17 for children, incl. insulin analogues, new oral medicines for diabetes ; medicines for cancer treatment  \n",
            "\n",
            "18. 2.5 quintillion bytes of data are produced every day.\n",
            "Yet, we still struggle with HealthData gaps.\n",
            "We need\n",
            "1 Better collaboration\n",
            "2 Stronger infrastructure\n",
            "3 More sustainable capacity\n",
            "\n",
            "More  \n",
            "\n",
            "19. 56 countries do not have enough doses to vaccinate 10% of their populations. Half of them have only enough doses to vaccinate 2%. \n",
            "\n",
            "No one is safe until everyone is safe. VaccinEquity \n",
            "\n",
            "\n",
            "\n",
            "20. It's International Day of Older Persons.\n",
            " \n",
            "Holding ageist attitudes towards older people results in their poorer physical and mental health and reduced quality of life, costing societies billions of dollars each year \n",
            " \n",
            "AWorld4AllAges \n",
            "\n",
            "21. Today is International Day of Older Persons and a reminder that people of all ages play a valuable role in our society.\n",
            " \n",
            "Stand up against ageism and help us create AWorld4AllAges \n",
            "\n",
            "  \n",
            "\n",
            "22. The world missed the target set by WHO of vaccinating % of all people in all countries by the end of September.\n",
            "\n",
            "Vaccinating the  equitably is a moral, epidemiological, and economic necessity. VaccinEquity \n",
            "\n",
            "23. Today is International Day of Older Persons.\n",
            "\n",
            "DYK 1 in 2 people are ageist towards older people.\n",
            "\n",
            "Ageism is preventing older people from having a healthy and engaged life. Together, we must change this and create AWorld4AllAges.\n",
            "\n",
            " \n",
            "\n",
            "24. WHO ; partners support\n",
            "\n",
            "-Nepal to reduce noncommunicable diseases\n",
            "-Chad  to provide training on HIV/AIDS\n",
            "-Guatemala  to assist communities affected by -tropical storms\n",
            "-Nigeria  to strengthen tuberculosis case finding\n",
            "\n",
            "and more  WHOImpact \n",
            "\n",
            "25.  Vaccinating the  equitably is an ethical, epidemiological, and economic imperative. Vaccine inequity = more transmission ; d\n",
            "\n",
            "26.  2 years ago,  leaders committed to make universal health coverage a reality. COVID19 is clear proof that when health is at\n",
            "\n",
            "27.  We are LIVE  Join our conversation on the challenges in childhood cancer care in Latin America and the Caribbean \n",
            "\n",
            "GoldSept\n",
            "\n",
            "28.  Thanks for your visit, Zahid Maleque, Bangladesh Health Minister, ; for your comprehensive efforts to suppress COVID19 tran\n",
            "\n",
            "29. Health is a human right. \n",
            "Everyone, everywhere deserves access to quality essential health services.\n",
            "You can show your support for HealthForAll by participating in Universal Health Coverage on 12.12.21. \n",
            "Get ready and learn more \n",
            "\n",
            "30. The COVID19 pandemic has reversed progress towards the . But it also provides us with new opportunities to truly collaborate  on building back better  towards\n",
            "\n",
            "\n",
            "\n",
            "\n",
            "\n",
            "a healthier, fairer, more inclusive ; sustainable world. UNGA \n",
            "\n",
            "31. Investment in universal health coverage has far-reaching impacts beyond health. It can also help us create stronger, more sustainable and more equitable economies and societies that leave no one behind. \n",
            "\n",
            "HealthForAll UNGA \n",
            "\n",
            "32. PrimaryHealthCare provides the first line of defense ; response to keep people safe ; healthy by strengthening health service delivery, essential public health functions and emergency risk management, and by involving communities in decisions about their health. \n",
            "\n",
            "33. There is an urgent opportunity for more and better-directed investment in the foundations of health systems, and a coherent, well-aligned, and integrated approach, based on PrimaryHealthCare that leaves no one behind.\n",
            "\n",
            "\n",
            "\n",
            "HealthForAll UNGA \n",
            "\n",
            "34. To save lives and protect economies everywhere in the , countries must take every opportunity to rebuild their health systems sustainably and more equitably, with universal health coverage and health security as complementary goals. \n",
            "\n",
            "HealthForAll UNGA \n",
            "\n",
            "35.   LIVE  media briefing on the COVID19 pandemic ; the global 10% COVID-19 vaccination milestones reached by countries\n",
            "\n",
            "36. Patients that benefit most from these therapeutics are those who are\n",
            "non-severe and at higher risk for hospitalization \n",
            "severe or critical with seronegative status (have not developed antibodies against COVID-19)\n",
            "\n",
            "  \n",
            "\n",
            "37.  Good mentalhealth and well-being are essential for all of us to lead fulfilling lives, to realize our full potential, and to\n",
            "\n",
            "38.  I very much enjoyed talking to 's students about the importance of VaccinEquity ; how to overcome the lack of m\n",
            "\n",
            "39.  At the WTOPublicForum I reiterated why we need strong leadership more than ever\n",
            "- To remove unnecessary trade constraints s\n",
            "\n",
            "40.  Muchas gracias, David Choquehuanca, Vice President of Bolivia, for your visit today, and a very constructive discussion on t\n",
            "\n",
            "41. LIVE with  at 's World Leaders Forum Public health - a critical foundation for successful societies \n",
            "\n",
            "42. Today is WorldHeartDay \n",
            " \n",
            "You can control high blood pressure\n",
            " Follow  advice and adhere to lifestyle changes\n",
            " Take  as prescribed\n",
            " Regularly check blood pressure\n",
            " Reduce and manage stress \n",
            "\n",
            "43. Serious investment in Universal Health Coverage ; pandemic preparedness is critical not only to bolster global health security but also to getting the  2030 back on track.\n",
            "\n",
            "Read more  HealthForAll UNGA \n",
            "\n",
            "44.      us      You can also discover the latest COVID19 information with lite online services   \n",
            "\n",
            "45. Why does ClimateChange put the health of billions at risk of diseases? What will happen when new areas of the world are hot and humid enough to support pathogen-carrying mosquitoes ?\n",
            "\n",
            "Find out in the  episode of the 'EYE on YellowFever' podcast\n",
            "  \n",
            "\n",
            "46. Priorities for meningitis response ; prevention, incl.\n",
            "\n",
            " high immunization coverage + development of new affordable vaccines \n",
            " speedy diagnosis, optimal treatment and disability support for patients\n",
            " good data to guide prevention ; control efforts.\n",
            "\n",
            "DefeatMeningitis \n",
            "\n",
            "47. By 2030, the new roadmap to DefeatMeningitis aims to\n",
            "\n",
            " eliminate bacterial meningitis epidemics\n",
            " reduce cases of vaccine-preventable bacterial meningitis by 50% ; deaths by 70%\n",
            " reduce disability ; improve quality of life for meningitis survivors. \n",
            "\n",
            "48. Meningitis is always a medical emergency. Symptoms can include\n",
            " stiff neck \n",
            " fever \n",
            " sensitivity to light \n",
            " confusion \n",
            " headaches \n",
            " vomiting \n",
            " rash \n",
            " seizures \n",
            "\n",
            "Infants  may \n",
            " have a bulging fontanelle  \n",
            " be droopy and unresponsive \n",
            "\n",
            "49. LIVE Innovation Impact Series MentalHealth Innovation in  with  ; Dr  \n",
            "\n",
            "50.      us      Once subscribed to the WHO  chatbot, users will receive notifications with the latest news and information on COVID19 directly from WHO.\n",
            "\n",
            "Join the WHO Viber service   \n",
            "\n",
            "51. Today is WorldHeartDay !\n",
            " \n",
            "Cardiovascular diseases including heart attacks and strokes are the leading cause of death globally, accounting for nearly 18 million lives lost every year.\n",
            " \n",
            "Protect your heart  by choosing a healthy lifestyle \n",
            " \n",
            "  \n",
            "\n",
            "52.      us     WHO and  fight COVID19 misinformation with an interactive chatbot available in more than 20 languages   \n",
            "\n",
            "53.      us    Get the latest information about COVID19 from trusted sources via WHO  service\n",
            "Start by typing hi.\n",
            "\n",
            " \n",
            "\n",
            "54.  Following media reports of sexual exploitation and abuse during the Ebola 2018-2020 outbreak in North Kivu and Ituri, DRC,\n",
            "\n",
            "55.  Although rabies is vaccine-preventable it still kills one person every 9 minutes, mostly children. Every life lost is a prev\n",
            "\n",
            "56.  I thank very much the the Government and people of Thailand for its solidarity and continued financial support to the COVID\n",
            "\n",
            "57. To fight COVID19 misinformation, WHO has collaborated with  ,  , ,  , , us, , , to direct people to WHO or national health institutions when searching for coronavirus information  \n",
            "\n",
            "58. WHO uses socialmedia to communicate  vital  health information to millions of people around the . \n",
            "\n",
            "Are you following us yet on these platforms ?\n",
            "\n",
            "AccessToInfoDay \n",
            "\n",
            "59. It's International AccessToInfoDay.\n",
            "\n",
            "We are all being exposed to a huge amount of COVID19 information  on a daily basis, ; not all of it is reliable. \n",
            "\n",
            "Here are 7 tips for telling the difference ; stopping the spread of misinformation \n",
            "\n",
            "\n",
            "60. It's WorldRabiesDay \n",
            "\n",
            "We can all do our part to prevent rabies deaths by taking a OneHealth approach. Learn how in our new free online course on OpenWHO \n",
            " \n",
            "\n",
            "61. Meningitis kills 1 in  of those infected  mostly children and young people - and leaves 1 in 5 with long-lasting disability, such as seizures, hearing and vision loss, neurological damage, and cognitive impairment.\n",
            "\n",
            "  DefeatMeningitis \n",
            "\n",
            "62.  Today,  ; partners launch the first ever global strategy to defeat meningitis.\n",
            "\n",
            "Meningitis is a debilitating disease that\n",
            "\n",
            "63. Meningitis that is caused by bacterial infection tends to be the most serious  leading to around 250000 deaths a year - and can cause fast-spreading epidemics.\n",
            "\n",
            " DefeatMeningitis \n",
            "\n",
            "64. ! First ever global strategy to DefeatMeningitis - a debilitating disease that kills hundreds of thousands of people each year.  \n",
            "\n",
            "65.   The full remarks by  \n",
            "\n",
            "66.   \"We are acutely conscious that we need to rebuild trust with the people we serve, with our Member States, with our partners and with our workforce. Only then can we succeed in our mission to promote health, keep the world safe and serve the vulnerable\"-\n",
            "\n",
            "67.   \"We expect and demand that all our staff at all levels understand the heightened responsibility that comes with working for WHO. I will hold all leaders accountable for inaction in any suspected incident of sexual exploitation and abuse\"- \n",
            "\n",
            "68.   \"This is a dark day for WHO. But by shining a light on the failures of individuals and the Organization, we hope that the victims feel that their voices have been heard and acted on.\n",
            "We want the perpetrators to know there will be severe consequences for their actions\"-\n",
            "\n",
            "69.   \"I struggle to find the words to describe my feelings when I first read the commissions report\"-\n",
            "\n"
          ]
        }
      ]
    },
    {
      "cell_type": "code",
      "metadata": {
        "colab": {
          "base_uri": "https://localhost:8080/"
        },
        "id": "SKzTPX9EnGAp",
        "outputId": "5db6def0-6aa0-416f-be4b-c7c0442e7f86"
      },
      "source": [
        "# negative tweets\n",
        "j = 1\n",
        "sortedDF = df.sort_values(by=['Polarity'], ascending = 'False')\n",
        "\n",
        "for i in range(0, sortedDF.shape[0]):\n",
        "  if (sortedDF['Analysis'][i] == 'Negative'):\n",
        "    print(str(j)+ '. ' +sortedDF['Posted Tweets'][i])\n",
        "    print()\n",
        "    j = j + 1"
      ],
      "execution_count": 15,
      "outputs": [
        {
          "output_type": "stream",
          "name": "stdout",
          "text": [
            "1.  Missing the 10% COVID19 vaccination target is a global failure that must spur us all to do all we can to vaccinate\n",
            "- 40% of\n",
            "\n",
            "2.  In May,  set the world a VaccinEquity challenge to vaccinate at least 10% of the population of every country against C\n",
            "\n",
            "3. Do you believe all people should have access to the health services without suffering financial hardship?\n",
            "Then get ready for Universal Health Coverage Day on 12.12.21! Join the call for leaders to invest in health systems that leave no one behind  \n",
            "\n",
            "4. It's International TranslationDay \n",
            "\n",
            "Did you know WHO offers  online courses in 56 languages on COVID19 ; other health topics?\n",
            "\n",
            "Start learning in your language on our OpenWHO platform today!\n",
            " \n",
            "\n",
            "5. This is how you can prevent high blood pressure\n",
            "Reduce Salt to less than 5g/day\n",
            "Avoid saturated fats ; trans fats \n",
            "Don't \n",
            "Reduce \n",
            "Eat  and  regularly\n",
            "Be active \n",
            " \n",
            " \n",
            "\n",
            "WorldHeartDay  \n",
            "\n",
            "6. The number of adults aged 30-79 living with hypertension has doubled from 650 million to 1.28 billion since 1990, according to a comprehensive global  analysis of trends in hypertension prevalence, detection, treatment ; control.\n",
            "\n",
            " \n",
            "\n",
            "WorldHeartDay \n",
            "\n",
            "7. Today is WorldHeartDay \n",
            " \n",
            "Hypertension - or elevated blood pressure - is a serious medical condition that significantly increases the risks of , , kidney ; other diseases. It is a major cause of premature death worldwide.\n",
            " \n",
            "  \n",
            "\n",
            "8. Vaccines  can be given against meningococcus and pneumococcus bacteria and Haemophilus influenzae - all common causes of the disease.\n",
            "\n",
            "VaccinesWork to DefeatMeningitis!  \n",
            "\n",
            "9. Meningitis is a dangerous inflammation of the membranes that surround the brain and spinal cord, predominantly caused by infection with bacteria and viruses. It can be fatal within a few hours and cause lifelong disability.\n",
            "\n",
            " DefeatMeningitis \n",
            "\n",
            "10.   \"The conduct it describes is a sickening betrayal of\n",
            "-the people we serve\n",
            "-our colleagues who put themselves in harms way to serve others, incl. those who paid the ultimate price, killed by armed groups while working to protect the health of vulnerable communities\"-\n",
            "\n"
          ]
        }
      ]
    },
    {
      "cell_type": "code",
      "metadata": {
        "colab": {
          "base_uri": "https://localhost:8080/",
          "height": 441
        },
        "id": "v3fGZURZrcfP",
        "outputId": "840ba73f-352b-4a33-ff30-634380fb947a"
      },
      "source": [
        "# Plot polarity and subjectivity\n",
        "\n",
        "plt.figure(figsize= (8,6))\n",
        "for i in range(0,df.shape[0]):\n",
        "  plt.scatter(df['Polarity'][i], df['Subjectivity'][i], color= 'Orange')\n",
        "\n",
        "plt.title('Sentiment Analysis')\n",
        "plt.xlabel('Polarity')\n",
        "plt.ylabel('Subjectivity')\n",
        "plt.show()"
      ],
      "execution_count": 16,
      "outputs": [
        {
          "output_type": "display_data",
          "data": {
            "image/png": "[encoded data removed]",
            "text/plain": [
              "<Figure size 576x432 with 1 Axes>"
            ]
          },
          "metadata": {}
        }
      ]
    },
    {
      "cell_type": "code",
      "metadata": {
        "colab": {
          "base_uri": "https://localhost:8080/"
        },
        "id": "mKmOgq-jqho6",
        "outputId": "4958a4a5-c893-412c-910e-f264286d3974"
      },
      "source": [
        "# Percentage of positive tweets\n",
        "positive_tweets = df[df.Analysis == 'Positive']\n",
        "positive_tweets = positive_tweets['Posted Tweets']\n",
        "\n",
        "pos = round((positive_tweets.shape[0] / df.shape[0]) * 100 , 1)\n",
        "pos"
      ],
      "execution_count": 26,
      "outputs": [
        {
          "output_type": "execute_result",
          "data": {
            "text/plain": [
              "69.0"
            ]
          },
          "metadata": {},
          "execution_count": 26
        }
      ]
    },
    {
      "cell_type": "code",
      "metadata": {
        "colab": {
          "base_uri": "https://localhost:8080/"
        },
        "id": "mG-P2a4C35pV",
        "outputId": "0076c848-f8a4-4d02-83f7-da4cf5b0a2a5"
      },
      "source": [
        "# Percentage of negative tweets\n",
        "negative_tweets = df[df.Analysis == 'Negative']\n",
        "negative_tweets = negative_tweets['Posted Tweets']\n",
        "\n",
        "neg = round((negative_tweets.shape[0] / df.shape[0]) * 100 , 1)\n",
        "neg"
      ],
      "execution_count": 28,
      "outputs": [
        {
          "output_type": "execute_result",
          "data": {
            "text/plain": [
              "10.0"
            ]
          },
          "metadata": {},
          "execution_count": 28
        }
      ]
    },
    {
      "cell_type": "code",
      "metadata": {
        "colab": {
          "base_uri": "https://localhost:8080/"
        },
        "id": "W64vcT-J4rEB",
        "outputId": "99180ab9-c3bd-405d-85f3-ff04df4ce78c"
      },
      "source": [
        "# Percentage of neutral tweets\n",
        "neutral_tweets = df[df.Analysis == 'Neutral']\n",
        "neutral_tweets = neutral_tweets['Posted Tweets']\n",
        "\n",
        "neu = round((neutral_tweets.shape[0] / df.shape[0]) * 100 , 1)\n",
        "neu"
      ],
      "execution_count": 27,
      "outputs": [
        {
          "output_type": "execute_result",
          "data": {
            "text/plain": [
              "21.0"
            ]
          },
          "metadata": {},
          "execution_count": 27
        }
      ]
    },
    {
      "cell_type": "code",
      "metadata": {
        "colab": {
          "base_uri": "https://localhost:8080/",
          "height": 310
        },
        "id": "b4CMAjwLplJg",
        "outputId": "5bd0ee1f-55bc-447a-e511-672a3a1f6dac"
      },
      "source": [
        "# Visualization of positive, neutral and negative tweet (in percentage)\n",
        "labels = ['Positive', 'Neutral', 'Negative']\n",
        "sizes = [pos, neu, neg]\n",
        "colors = ['#f3c190','#f29d4a', '#f37d0c']\n",
        "explode = (0.05,0.05,0.05)\n",
        " \n",
        "plt.pie(sizes, explode = explode, colors = colors, labels=labels, autopct='%1.1f%%', startangle=90, pctdistance=0.81)\n",
        "\n",
        "\n",
        "centre_circle = plt.Circle((0,0),0.60,fc='white')\n",
        "fig = plt.gcf()\n",
        "fig.gca().add_artist(centre_circle)\n",
        "\n",
        "plt.tight_layout()\n",
        "plt.title('Sentiment Analysis of Tweets')\n",
        "plt.show()\n",
        "\n",
        "\n",
        "\n"
      ],
      "execution_count": 53,
      "outputs": [
        {
          "output_type": "display_data",
          "data": {
            "image/png": "[encoded data removed]",
            "text/plain": [
              "<Figure size 432x288 with 1 Axes>"
            ]
          },
          "metadata": {}
        }
      ]
    }
  ]
}